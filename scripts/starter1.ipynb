{
 "cells": [
  {
   "cell_type": "code",
   "execution_count": 1,
   "id": "ac1d19a0-5241-4be0-a0f1-7efb87b45a68",
   "metadata": {},
   "outputs": [
    {
     "name": "stderr",
     "output_type": "stream",
     "text": [
      "/fs/nexus-scratch/mrislam/anaconda3/envs/ldm/lib/python3.8/site-packages/tqdm/auto.py:21: TqdmWarning: IProgress not found. Please update jupyter and ipywidgets. See https://ipywidgets.readthedocs.io/en/stable/user_install.html\n",
      "  from .autonotebook import tqdm as notebook_tqdm\n"
     ]
    }
   ],
   "source": [
    "# import libraries\n",
    "import argparse, os\n",
    "import PIL\n",
    "import torch\n",
    "import numpy as np\n",
    "from omegaconf import OmegaConf\n",
    "from PIL import Image\n",
    "from tqdm import tqdm, trange\n",
    "from itertools import islice\n",
    "from einops import rearrange, repeat\n",
    "from torchvision.utils import make_grid\n",
    "from torch import autocast\n",
    "from contextlib import nullcontext\n",
    "from pytorch_lightning import seed_everything\n",
    "from imwatermark import WatermarkEncoder\n",
    "\n",
    "\n",
    "from scripts.txt2img import put_watermark\n",
    "from ldm.util import instantiate_from_config\n",
    "from ldm.models.diffusion.ddim import DDIMSampler"
   ]
  },
  {
   "cell_type": "code",
   "execution_count": 2,
   "id": "8a6fd869-50f3-43f9-96ed-4030efe2fb8c",
   "metadata": {},
   "outputs": [],
   "source": [
    "from pytorch_lightning import seed_everything"
   ]
  },
  {
   "cell_type": "code",
   "execution_count": 3,
   "id": "6020264f-0fe5-4b80-813d-a9db51489385",
   "metadata": {},
   "outputs": [],
   "source": [
    "def chunk(it, size):\n",
    "    it = iter(it)\n",
    "    return iter(lambda: tuple(islice(it, size)), ())\n",
    "\n",
    "\n",
    "def load_model_from_config(config, ckpt, verbose=False):\n",
    "    print(f\"Loading model from {ckpt}\")\n",
    "    pl_sd = torch.load(ckpt, map_location=\"cpu\")\n",
    "    if \"global_step\" in pl_sd:\n",
    "        print(f\"Global Step: {pl_sd['global_step']}\")\n",
    "    sd = pl_sd[\"state_dict\"]\n",
    "    model = instantiate_from_config(config.model)\n",
    "    m, u = model.load_state_dict(sd, strict=False)\n",
    "    if len(m) > 0 and verbose:\n",
    "        print(\"missing keys:\")\n",
    "        print(m)\n",
    "    if len(u) > 0 and verbose:\n",
    "        print(\"unexpected keys:\")\n",
    "        print(u)\n",
    "\n",
    "    model.cuda()\n",
    "    model.eval()\n",
    "    return model\n",
    "\n",
    "\n",
    "def load_img(path):\n",
    "    image = Image.open(path).convert(\"RGB\")\n",
    "    w, h = image.size\n",
    "    print(f\"loaded input image of size ({w}, {h}) from {path}\")\n",
    "    #w, h = map(lambda x: x - x % 64, (w, h))  # resize to integer multiple of 64\n",
    "    w, h = 768, 768\n",
    "    image = image.resize((w, h), resample=PIL.Image.LANCZOS)\n",
    "    image = np.array(image).astype(np.float32) / 255.0\n",
    "    image = image[None].transpose(0, 3, 1, 2)\n",
    "    image = torch.from_numpy(image)\n",
    "    return 2. * image - 1."
   ]
  },
  {
   "cell_type": "code",
   "execution_count": 4,
   "id": "a51c4afd-a0c5-455a-881f-6eb6599f386a",
   "metadata": {},
   "outputs": [
    {
     "name": "stderr",
     "output_type": "stream",
     "text": [
      "Global seed set to 42\n"
     ]
    },
    {
     "data": {
      "text/plain": [
       "42"
      ]
     },
     "execution_count": 4,
     "metadata": {},
     "output_type": "execute_result"
    }
   ],
   "source": [
    "seed_everything(42) # using seed 42"
   ]
  },
  {
   "cell_type": "code",
   "execution_count": 5,
   "id": "a2040508-fd43-4d8e-89c1-d74856e7374c",
   "metadata": {},
   "outputs": [
    {
     "name": "stdout",
     "output_type": "stream",
     "text": [
      "No module 'xformers'. Proceeding without it.\n"
     ]
    }
   ],
   "source": [
    "from ldm.modules.diffusionmodules.model import Downsample, Upsample\n",
    "intermediate_outputs = {}\n",
    "\n",
    "def hook_fn(module, input, output):\n",
    "    layer_name = module.__class__.__name__\n",
    "    if layer_name not in intermediate_outputs:\n",
    "        intermediate_outputs[layer_name] = []\n",
    "    intermediate_outputs[layer_name].append(output)"
   ]
  },
  {
   "cell_type": "code",
   "execution_count": 6,
   "id": "ab072f69-d7e0-4598-8f44-4f3f44aad92b",
   "metadata": {},
   "outputs": [],
   "source": [
    "import torchvision.transforms as T"
   ]
  },
  {
   "cell_type": "code",
   "execution_count": 7,
   "id": "2e0830d5-85c3-44cd-a143-b8c6559bbcf2",
   "metadata": {},
   "outputs": [],
   "source": [
    "transform = T.ToPILImage()"
   ]
  },
  {
   "cell_type": "code",
   "execution_count": 8,
   "id": "c7a81ac6-966d-432f-9ee6-9e818f44ca21",
   "metadata": {},
   "outputs": [
    {
     "data": {
      "text/plain": [
       "'cuda'"
      ]
     },
     "execution_count": 8,
     "metadata": {},
     "output_type": "execute_result"
    }
   ],
   "source": [
    "device = \"cuda\" if torch.cuda.is_available() else \"cpu\"\n",
    "device"
   ]
  },
  {
   "cell_type": "code",
   "execution_count": 9,
   "id": "934657b0-09f0-4bbe-b0b6-ade6b3a8895a",
   "metadata": {
    "scrolled": true
   },
   "outputs": [
    {
     "name": "stdout",
     "output_type": "stream",
     "text": [
      "Loading model from /fs/nexus-scratch/mrislam/v2-1_768-nonema-pruned.ckpt\n",
      "Global Step: 110000\n",
      "LatentDiffusion: Running in v-prediction mode\n",
      "DiffusionWrapper has 865.91 M params.\n",
      "making attention of type 'vanilla' with 512 in_channels\n",
      "Working with z of shape (1, 4, 32, 32) = 4096 dimensions.\n",
      "making attention of type 'vanilla' with 512 in_channels\n"
     ]
    }
   ],
   "source": [
    "config = OmegaConf.load(\"../configs/stable-diffusion/v2-inference-v.yaml\") \n",
    "model = load_model_from_config(config, \"/fs/nexus-scratch/mrislam/v2-1_768-nonema-pruned.ckpt\") # add , device?\n",
    "# move to GPU \n",
    "model = model.to(device)"
   ]
  },
  {
   "cell_type": "code",
   "execution_count": 10,
   "id": "c663b458-7830-40ab-b829-f75bf0e9c9e5",
   "metadata": {},
   "outputs": [],
   "source": [
    "for name, layer in model.named_modules():\n",
    "    if isinstance(layer, (Downsample, Upsample)):  # Specify the types of layers you are interested in\n",
    "        layer.register_forward_hook(hook_fn)"
   ]
  },
  {
   "cell_type": "code",
   "execution_count": 11,
   "id": "f712ccaa-94f2-41ce-b163-f1d70b5946e1",
   "metadata": {},
   "outputs": [
    {
     "name": "stdout",
     "output_type": "stream",
     "text": [
      "loaded input image of size (512, 512) from ../assets/test3.png\n"
     ]
    },
    {
     "data": {
      "text/plain": [
       "torch.Size([1, 3, 768, 768])"
      ]
     },
     "execution_count": 11,
     "metadata": {},
     "output_type": "execute_result"
    }
   ],
   "source": [
    "init_img = load_img(\"../assets/test3.png\").to(device)\n",
    "init_img.shape"
   ]
  },
  {
   "cell_type": "code",
   "execution_count": 12,
   "id": "3d5edada-2d5a-4eee-9821-9add1e23d643",
   "metadata": {},
   "outputs": [],
   "source": [
    "intermediate_outputs.clear()"
   ]
  },
  {
   "cell_type": "code",
   "execution_count": 13,
   "id": "962788dc-8154-45f7-b329-993cd11c56ae",
   "metadata": {},
   "outputs": [
    {
     "data": {
      "text/plain": [
       "torch.Size([1, 4, 96, 96])"
      ]
     },
     "execution_count": 13,
     "metadata": {},
     "output_type": "execute_result"
    }
   ],
   "source": [
    "latent = model.get_first_stage_encoding(model.encode_first_stage(init_img))\n",
    "latent.shape"
   ]
  },
  {
   "cell_type": "code",
   "execution_count": 14,
   "id": "2e0dda18-faa5-495f-95e4-0eb4655fb595",
   "metadata": {},
   "outputs": [
    {
     "data": {
      "image/png": "[encoded data removed]",
      "text/plain": [
       "<PIL.Image.Image image mode=RGBA size=96x96>"
      ]
     },
     "execution_count": 14,
     "metadata": {},
     "output_type": "execute_result"
    }
   ],
   "source": [
    "transform(latent[0])"
   ]
  },
  {
   "cell_type": "code",
   "execution_count": 15,
   "id": "fc5654a4-4fcd-4858-989c-6f81abb6fa97",
   "metadata": {},
   "outputs": [],
   "source": [
    "# sampler = DDIMSampler(model, device=\"cuda\") # change to device?\n",
    "# sampler"
   ]
  },
  {
   "cell_type": "code",
   "execution_count": 20,
   "id": "2e0f70e2-5cfb-4a78-8b76-81f4ab9b0f85",
   "metadata": {},
   "outputs": [
    {
     "data": {
      "text/plain": [
       "<ldm.models.diffusion.ddim.DDIMSampler at 0x7f97eddbb100>"
      ]
     },
     "execution_count": 20,
     "metadata": {},
     "output_type": "execute_result"
    }
   ],
   "source": [
    "from ldm.models.diffusion.dpm_solver import DPMSolverSampler\n",
    "sampler = DDIMSampler(model, device=\"cuda\") # change to device?\n",
    "sampler"
   ]
  },
  {
   "cell_type": "code",
   "execution_count": 27,
   "id": "68daac04-cb66-4775-a484-01bfadcfc888",
   "metadata": {},
   "outputs": [],
   "source": [
    "steps = 100"
   ]
  },
  {
   "cell_type": "code",
   "execution_count": 28,
   "id": "aeab9cb6-3757-4cd3-bcba-ea7d6f5e0c7e",
   "metadata": {},
   "outputs": [],
   "source": [
    "sampler.make_schedule(ddim_num_steps=steps, ddim_eta=0.0, verbose=False) # eta = 0.0 -> deterministic"
   ]
  },
  {
   "cell_type": "code",
   "execution_count": null,
   "id": "b239e96d-e5bf-4b54-b64c-d84fa49f5ad2",
   "metadata": {},
   "outputs": [],
   "source": [
    "import gc"
   ]
  },
  {
   "cell_type": "code",
   "execution_count": null,
   "id": "07db6f34-13de-47bc-bedc-eb62646a27e1",
   "metadata": {},
   "outputs": [],
   "source": [
    "gc.collect()\n",
    "torch.cuda.empty_cache()"
   ]
  },
  {
   "cell_type": "code",
   "execution_count": 23,
   "id": "7dcfbe2a-cd06-4d4f-93db-073444642356",
   "metadata": {},
   "outputs": [],
   "source": [
    "gs = 7.0"
   ]
  },
  {
   "cell_type": "code",
   "execution_count": 31,
   "id": "36b394f2-f36a-430d-90f0-4cde0bd8f596",
   "metadata": {},
   "outputs": [
    {
     "name": "stdout",
     "output_type": "stream",
     "text": [
      "Running DDIM Sampling with 30 timesteps\n"
     ]
    },
    {
     "name": "stderr",
     "output_type": "stream",
     "text": [
      "Decoding image: 100%|██████████| 30/30 [00:10<00:00,  2.78it/s]\n"
     ]
    },
    {
     "data": {
      "text/plain": [
       "torch.Size([1, 4, 96, 96])"
      ]
     },
     "execution_count": 31,
     "metadata": {},
     "output_type": "execute_result"
    }
   ],
   "source": [
    "imgs = {}\n",
    "s, e = 30, 30\n",
    "with torch.no_grad():\n",
    "        with torch.autocast(\"cuda\"), model.ema_scope():\n",
    "            for t_enc in range(s, e + 10, 10):\n",
    "                z_enc = sampler.stochastic_encode(latent, torch.tensor([t_enc]).to(device))\n",
    "                uc = model.get_learned_conditioning([\"\"])\n",
    "                c = model.get_learned_conditioning([\"A tire rolling.\"])\n",
    "                samples = sampler.decode(z_enc, c, t_enc, unconditional_guidance_scale=gs,\n",
    "                                                     unconditional_conditioning=uc)\n",
    "                x_samples = model.decode_first_stage(samples)\n",
    "                x_samples = torch.clamp((x_samples + 1.0) / 2.0, min=0.0, max=1.0)\n",
    "                for x_sample in x_samples:\n",
    "                    x_sample = 255. * rearrange(x_sample.cpu().numpy(), 'c h w -> h w c')\n",
    "                    imgs[t_enc] = Image.fromarray(x_sample.astype(np.uint8))\n",
    "                # samples = sampler.decode(enc, c, t_enc, unconditional_guidance_scale=guidance_scale,\n",
    "                #                                      unconditional_conditioning=uc, )\n",
    "samples.shape"
   ]
  },
  {
   "cell_type": "code",
   "execution_count": 23,
   "id": "d6d0050f-238f-41d9-9a00-9cc90e812c8a",
   "metadata": {},
   "outputs": [
    {
     "ename": "KeyError",
     "evalue": "10",
     "output_type": "error",
     "traceback": [
      "\u001b[0;31m---------------------------------------------------------------------------\u001b[0m",
      "\u001b[0;31mKeyError\u001b[0m                                  Traceback (most recent call last)",
      "Cell \u001b[0;32mIn[23], line 2\u001b[0m\n\u001b[1;32m      1\u001b[0m \u001b[38;5;28;01mfor\u001b[39;00m t_enc \u001b[38;5;129;01min\u001b[39;00m \u001b[38;5;28mrange\u001b[39m(\u001b[38;5;241m10\u001b[39m, \u001b[38;5;241m100\u001b[39m, \u001b[38;5;241m10\u001b[39m):\n\u001b[0;32m----> 2\u001b[0m     \u001b[43mimgs\u001b[49m\u001b[43m[\u001b[49m\u001b[43mt_enc\u001b[49m\u001b[43m]\u001b[49m\u001b[38;5;241m.\u001b[39msave(\u001b[38;5;124mf\u001b[39m\u001b[38;5;124m\"\u001b[39m\u001b[38;5;124moutputs/editing_exp/g\u001b[39m\u001b[38;5;132;01m{\u001b[39;00mgs\u001b[38;5;132;01m}\u001b[39;00m\u001b[38;5;124m_s\u001b[39m\u001b[38;5;132;01m{\u001b[39;00msteps\u001b[38;5;132;01m}\u001b[39;00m\u001b[38;5;124m_\u001b[39m\u001b[38;5;132;01m{\u001b[39;00mt_enc\u001b[38;5;132;01m}\u001b[39;00m\u001b[38;5;124m.png\u001b[39m\u001b[38;5;124m\"\u001b[39m)\n",
      "\u001b[0;31mKeyError\u001b[0m: 10"
     ]
    }
   ],
   "source": [
    "for t_enc in range(10, 100, 10):\n",
    "    imgs[t_enc].save(f\"outputs/editing_exp/g{gs}_s{steps}_{t_enc}.png\")"
   ]
  },
  {
   "cell_type": "code",
   "execution_count": null,
   "id": "1ed788d5-177c-44fe-a868-e3a3fbae12ca",
   "metadata": {},
   "outputs": [],
   "source": [
    "imgs"
   ]
  },
  {
   "cell_type": "code",
   "execution_count": null,
   "id": "63e50208-9c4d-48f1-93f6-475f9a16d71c",
   "metadata": {},
   "outputs": [],
   "source": [
    "results.shape"
   ]
  },
  {
   "cell_type": "code",
   "execution_count": null,
   "id": "865b7357-092b-4d5c-8438-99a8af876912",
   "metadata": {},
   "outputs": [],
   "source": [
    "results = torch.clamp((results + 1.0) / 2.0, min=0.0, max=1.0)\n",
    "# results = torch.clamp((x + 1.0) / 2.0, min=0.0, max=1.0)\n",
    "results = 255. * rearrange(results[0].cpu().numpy(), 'c h w -> h w c')\n",
    "transform(results[0])"
   ]
  },
  {
   "cell_type": "code",
   "execution_count": null,
   "id": "d2373ddd-125e-45d9-9773-e3e517dc47fc",
   "metadata": {},
   "outputs": [],
   "source": [
    "for layer_name, outputs in intermediate_outputs.items():\n",
    "    print(f\"Layer: {layer_name}\")\n",
    "    for i, output in enumerate(outputs):\n",
    "        print(f\"  Output {i+1}: {output.shape}\")"
   ]
  },
  {
   "cell_type": "code",
   "execution_count": null,
   "id": "53203aad-b565-4f11-a55c-ec744ce61ab2",
   "metadata": {},
   "outputs": [],
   "source": [
    "from math import ceil"
   ]
  },
  {
   "cell_type": "code",
   "execution_count": null,
   "id": "49bae2a8-01cf-4624-9fae-d3ed0dc64c53",
   "metadata": {},
   "outputs": [],
   "source": [
    "grid_size = (10, 10)\n",
    "grid_image = Image.new('RGB', (grid_size[0] * 64, ceil(len(intermediate_outputs[\"Downsample\"][0][0])/grid_size[0]) * 64))\n",
    "for idx, output in enumerate(intermediate_outputs[\"Downsample\"][0][0]):\n",
    "    image = transform(output).resize((64, 64), Image.LANCZOS)\n",
    "    x = idx % grid_size[0] * 64\n",
    "    y = idx // grid_size[0] * 64\n",
    "    grid_image.paste(image, (x, y))\n",
    "grid_image"
   ]
  },
  {
   "cell_type": "code",
   "execution_count": null,
   "id": "f6a5a9ab-412d-4937-9883-dbe76ae04407",
   "metadata": {},
   "outputs": [],
   "source": [
    "grid_size = (10, 10)\n",
    "grid_image = Image.new('RGB', (grid_size[0] * 64, ceil(len(intermediate_outputs[\"Upsample\"][2][0])/grid_size[0]) * 64))\n",
    "for idx, output in enumerate(intermediate_outputs[\"Upsample\"][2][0]):\n",
    "    image = transform(output).resize((64, 64), Image.LANCZOS)\n",
    "    x = idx % grid_size[0] * 64\n",
    "    y = idx // grid_size[0] * 64\n",
    "    grid_image.paste(image, (x, y))\n",
    "grid_image"
   ]
  },
  {
   "cell_type": "code",
   "execution_count": null,
   "id": "46c040df-2790-43ad-b22f-6f40f777c04b",
   "metadata": {},
   "outputs": [],
   "source": [
    "transform(intermediate_outputs[\"Upsample\"][2][0][10 * 6])"
   ]
  },
  {
   "cell_type": "code",
   "execution_count": null,
   "id": "f57bfb82-2eb6-4e9d-8530-dd187a9f770b",
   "metadata": {},
   "outputs": [],
   "source": [
    "transform(intermediate_outputs[\"Downsample\"][1][0][10 * 6])"
   ]
  },
  {
   "cell_type": "code",
   "execution_count": null,
   "id": "eb82adde-9660-4583-b5c4-2ba9774f6c81",
   "metadata": {},
   "outputs": [],
   "source": [
    "transform(intermediate_outputs[\"Downsample\"][0][0][10 * 6 + 1])"
   ]
  },
  {
   "cell_type": "code",
   "execution_count": null,
   "id": "5c18a923-6792-4371-8091-9a55982e98cf",
   "metadata": {},
   "outputs": [],
   "source": [
    "res = model.first_stage_model()\n",
    "res.shape"
   ]
  },
  {
   "cell_type": "code",
   "execution_count": null,
   "id": "d55a51b0-561f-47ff-ab6c-2798bae29957",
   "metadata": {
    "scrolled": true
   },
   "outputs": [],
   "source": [
    "# with torch.no_grad():\n",
    "#         with torch.autocast(\"cuda\"), model.ema_scope():\n",
    "#             uc = model.get_learned_conditioning([\"\"])\n",
    "#             print(uc)\n",
    "#             c = model.get_learned_conditioning([\"A dog running.\"])\n",
    "#             print(uc.shape, c.shape)\n",
    "#             samples_ddim, _ = sampler.sample(S=100,\n",
    "#                                              conditioning=c,\n",
    "#                                              batch_size=1,\n",
    "#                                              shape=[4, 768 // 8, 768 // 8],\n",
    "#                                              verbose=True,\n",
    "#                                              unconditional_guidance_scale=9.0,\n",
    "#                                              unconditional_conditioning=uc,\n",
    "#                                              eta=0.0,\n",
    "#                                              x_T=None)\n",
    "#             xs = model.decode_first_stage(samples_ddim)\n",
    "#             xs = torch.clamp((xs + 1.0) / 2.0, min=0.0, max=1.0)\n",
    "#             img = 255. * rearrange(xs[0].cpu().numpy(), 'c h w -> h w c')"
   ]
  },
  {
   "cell_type": "code",
   "execution_count": null,
   "id": "47062df0-7e22-41ce-a66c-947ffef5151d",
   "metadata": {},
   "outputs": [],
   "source": []
  }
 ],
 "metadata": {
  "kernelspec": {
   "display_name": "diff-env",
   "language": "python",
   "name": "diff-env"
  },
  "language_info": {
   "codemirror_mode": {
    "name": "ipython",
    "version": 3
   },
   "file_extension": ".py",
   "mimetype": "text/x-python",
   "name": "python",
   "nbconvert_exporter": "python",
   "pygments_lexer": "ipython3",
   "version": "3.8.5"
  }
 },
 "nbformat": 4,
 "nbformat_minor": 5
}
